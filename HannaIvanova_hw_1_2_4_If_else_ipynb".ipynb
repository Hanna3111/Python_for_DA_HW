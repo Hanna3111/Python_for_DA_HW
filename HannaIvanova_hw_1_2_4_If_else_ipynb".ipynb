{
  "nbformat": 4,
  "nbformat_minor": 0,
  "metadata": {
    "colab": {
      "provenance": []
    },
    "kernelspec": {
      "name": "python3",
      "display_name": "Python 3"
    },
    "language_info": {
      "name": "python"
    }
  },
  "cells": [
    {
      "cell_type": "markdown",
      "source": [
        "#Домашнє завдання до теми \"Конструкція if...else\""
      ],
      "metadata": {
        "id": "ZrhGiOYxAAbb"
      }
    },
    {
      "cell_type": "markdown",
      "source": [
        "1. **Перевірка температури:**\n",
        "   - Завдання:\n",
        "     - Дано заздалегідь визначену змінну температури `temperature`. Перевірте її значення.\n",
        "     - Якщо температура вище 25 градусів Цельсія, виведіть \"Це теплий день.\"\n",
        "     - Якщо температура знаходиться в межах від 15 до 25 градусів Цельсія (включно), виведіть \"Це приємний день.\"\n",
        "     - В іншому випадку виведіть \"Це холодний день.\""
      ],
      "metadata": {
        "id": "mpXlwoNP-cWT"
      }
    },
    {
      "cell_type": "code",
      "source": [
        "temperature = 10"
      ],
      "metadata": {
        "id": "fho34W3U-ssw"
      },
      "execution_count": 14,
      "outputs": []
    },
    {
      "cell_type": "code",
      "source": [
        "if temperature > 25:\n",
        "  print('Це теплий день.')\n",
        "elif temperature >= 15:\n",
        "  print('Це приємний день.')\n",
        "else:\n",
        "  print('Це холодний день.')"
      ],
      "metadata": {
        "id": "CC3TlffAAPxK",
        "colab": {
          "base_uri": "https://localhost:8080/"
        },
        "outputId": "83260ddf-b234-4a6a-a1c5-556c7579d33e"
      },
      "execution_count": 15,
      "outputs": [
        {
          "output_type": "stream",
          "name": "stdout",
          "text": [
            "Це холодний день.\n"
          ]
        }
      ]
    },
    {
      "cell_type": "markdown",
      "source": [
        "2. **Калькулятор оцінок:**\n",
        "   - Завдання:\n",
        "     - Дано заздалегідь визначену змінну `score` із результатом іспиту (зі 100 балів). Ваша задача визначити відповідну літеру цієї оцінки за правилами нижче.\n",
        "     - Якщо оцінка 90 або вище, виведіть \"A\".\n",
        "     - Якщо оцінка знаходиться в межах від 80 до 89, виведіть \"B\".\n",
        "     - Якщо оцінка знаходиться в межах від 70 до 79, виведіть \"C\".\n",
        "     - Якщо оцінка знаходиться в межах від 60 до 69, виведіть \"D\".\n",
        "     - В іншому випадку виведіть \"F\".\n",
        "     \n"
      ],
      "metadata": {
        "id": "ANFbi11m-4v_"
      }
    },
    {
      "cell_type": "code",
      "source": [
        "score = 75"
      ],
      "metadata": {
        "id": "2w0dAfBw_ew2"
      },
      "execution_count": 26,
      "outputs": []
    },
    {
      "cell_type": "code",
      "source": [
        "if score >= 90:\n",
        "  print('A')\n",
        "elif score >= 80:\n",
        "  print('B')\n",
        "elif score >= 70:\n",
        "  print('C')\n",
        "elif score >= 60:\n",
        "  print('D')\n",
        "else:\n",
        "  print('F')"
      ],
      "metadata": {
        "id": "ZdJsRZ0WAQVD",
        "colab": {
          "base_uri": "https://localhost:8080/"
        },
        "outputId": "d3a013da-a749-4194-e0df-5d80ed9f910a"
      },
      "execution_count": 27,
      "outputs": [
        {
          "output_type": "stream",
          "name": "stdout",
          "text": [
            "C\n"
          ]
        }
      ]
    },
    {
      "cell_type": "markdown",
      "source": [
        "\n",
        "\n",
        "3. **Перевірка на високосний рік:**\n",
        "   - Завдання:\n",
        "     - Дано заздалегідь визначену змінну року `year`. Перевірте, чи є рік високосним роком. Правила для перевірки наведені нижче.\n",
        "     - Якщо рік ділиться на 4 і не ділиться на 100, або він ділиться на 400, виведіть \"Високосний рік\".\n",
        "     - В іншому випадку виведіть \"Не високосний рік\".\n"
      ],
      "metadata": {
        "id": "ohXlepp7_dns"
      }
    },
    {
      "cell_type": "code",
      "source": [
        "year = 2024  # Приклад року"
      ],
      "metadata": {
        "id": "i4OUe6Kh_sAk"
      },
      "execution_count": 34,
      "outputs": []
    },
    {
      "cell_type": "code",
      "source": [
        "if (year % 4 == 0 and year % 100 != 0) or (year % 400 == 0):\n",
        "  print('Високосний рік')\n",
        "else:\n",
        "  print('Не високосний рік')\n"
      ],
      "metadata": {
        "id": "yTWX7B4JARhH",
        "colab": {
          "base_uri": "https://localhost:8080/"
        },
        "outputId": "05c8fa99-d1c6-493c-edb4-915db0b8d483"
      },
      "execution_count": 35,
      "outputs": [
        {
          "output_type": "stream",
          "name": "stdout",
          "text": [
            "Високосний рік\n"
          ]
        }
      ]
    },
    {
      "cell_type": "code",
      "source": [],
      "metadata": {
        "id": "fX3AM919eFdc"
      },
      "execution_count": null,
      "outputs": []
    }
  ]
}