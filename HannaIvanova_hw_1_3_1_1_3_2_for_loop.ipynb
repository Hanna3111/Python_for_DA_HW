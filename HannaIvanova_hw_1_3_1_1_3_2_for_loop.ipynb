{
  "nbformat": 4,
  "nbformat_minor": 0,
  "metadata": {
    "colab": {
      "provenance": []
    },
    "kernelspec": {
      "name": "python3",
      "display_name": "Python 3"
    },
    "language_info": {
      "name": "python"
    }
  },
  "cells": [
    {
      "cell_type": "markdown",
      "source": [
        "#Домашнє завдання до теми \"Цикл for\""
      ],
      "metadata": {
        "id": "W8lqt6zd9axA"
      }
    },
    {
      "cell_type": "markdown",
      "source": [
        "0. Розігрів. Напишіть цикл, який виводить на екран числа від 1 до 10 включно."
      ],
      "metadata": {
        "id": "iXzoNTu604kH"
      }
    },
    {
      "cell_type": "code",
      "execution_count": 2,
      "metadata": {
        "id": "zpwypSSp0MVm",
        "colab": {
          "base_uri": "https://localhost:8080/"
        },
        "outputId": "4b6b0740-e074-42ab-f5f2-59149a409bfb"
      },
      "outputs": [
        {
          "output_type": "stream",
          "name": "stdout",
          "text": [
            "1 => 2 => 3 => 4 => 5 => 6 => 7 => 8 => 9 => 10 => "
          ]
        }
      ],
      "source": [
        "for i in range(1, 11):\n",
        "  print(i, end=' => ')"
      ]
    },
    {
      "cell_type": "markdown",
      "source": [
        "**Початок покладено!**"
      ],
      "metadata": {
        "id": "JmWR8uze094H"
      }
    },
    {
      "cell_type": "markdown",
      "source": [
        "1. Задайте список `numbers`, який містить значення від 0 до 9 включно. Використовуючи цикл `for`, обчисліть суму елементів в створеному списку та виведіть фінальну суму на екран."
      ],
      "metadata": {
        "id": "OJX3yG-Blplu"
      }
    },
    {
      "cell_type": "code",
      "source": [
        "numbers = list(range(10))\n",
        "for nums in numbers:\n",
        "  my_sum += nums\n",
        "print(f\"Фінальна сума: {my_sum}.\")"
      ],
      "metadata": {
        "id": "sSX30A5yuvUQ",
        "colab": {
          "base_uri": "https://localhost:8080/"
        },
        "outputId": "b79537a8-0ab2-4768-f228-752dbba05209"
      },
      "execution_count": 6,
      "outputs": [
        {
          "output_type": "stream",
          "name": "stdout",
          "text": [
            "Фінальна сума: 45.\n"
          ]
        }
      ]
    },
    {
      "cell_type": "code",
      "source": [
        "numbers = list(range(10))\n",
        "for nums in numbers:\n",
        "  my_sum = sum(numbers)\n",
        "print(f\"Фінальна сума: {my_sum}.\")"
      ],
      "metadata": {
        "colab": {
          "base_uri": "https://localhost:8080/"
        },
        "id": "LX8ssiotthZF",
        "outputId": "c65c1ee8-3288-4a7e-fc64-d61019e6b469"
      },
      "execution_count": 32,
      "outputs": [
        {
          "output_type": "stream",
          "name": "stdout",
          "text": [
            "Фінальна сума: 45.\n"
          ]
        }
      ]
    },
    {
      "cell_type": "markdown",
      "source": [
        "2. Використовуючи цикл  `for` виведіть для кожного елементу списку `numbers`,який ми створили в завданні 1, чи цей елемент дорівнює 5. Тобто після виконання циклу на екрані має бути 10 bool значень."
      ],
      "metadata": {
        "id": "6Tb2Kx_jmD5b"
      }
    },
    {
      "cell_type": "code",
      "source": [
        "for nums in numbers:\n",
        "  if nums == 5:\n",
        "    print(True)\n",
        "  else:\n",
        "    print(False)"
      ],
      "metadata": {
        "id": "Ls8ZW8DWuwHC",
        "colab": {
          "base_uri": "https://localhost:8080/"
        },
        "outputId": "43863807-009c-4a2b-95a0-5882c87cb133"
      },
      "execution_count": 7,
      "outputs": [
        {
          "output_type": "stream",
          "name": "stdout",
          "text": [
            "False\n",
            "False\n",
            "False\n",
            "False\n",
            "False\n",
            "True\n",
            "False\n",
            "False\n",
            "False\n",
            "False\n"
          ]
        }
      ]
    },
    {
      "cell_type": "code",
      "source": [
        "#ще варіант\n",
        "for nums in numbers:\n",
        "  print(nums == 5)"
      ],
      "metadata": {
        "colab": {
          "base_uri": "https://localhost:8080/"
        },
        "id": "WcRFu5s5f8Ld",
        "outputId": "3c93df0e-cbc9-4776-f866-b5a2cc1e9afd"
      },
      "execution_count": 9,
      "outputs": [
        {
          "output_type": "stream",
          "name": "stdout",
          "text": [
            "False\n",
            "False\n",
            "False\n",
            "False\n",
            "False\n",
            "True\n",
            "False\n",
            "False\n",
            "False\n",
            "False\n"
          ]
        }
      ]
    },
    {
      "cell_type": "markdown",
      "source": [
        "3. Використовуючи цикл  `for` для кожного елементу списку `numbers`, який ми створили в завданні 1, виявіть, чи цей елемент ділиться на 2 без остачі, та запишіть результат у новий список `numbers_divisible_by_2`.\n",
        "\n",
        "Увага! Виконання завдання відрізняється від попереднього тим, що тепер ми результат обчислення на кожній ітерації записуємо у новий список. До того ж ми тут виконуємо іншу математичну операцію.\n",
        "\n",
        "Виведіть фільнальний список `numbers_divisible_by_2` на екран."
      ],
      "metadata": {
        "id": "ddFE1naOmp7Q"
      }
    },
    {
      "cell_type": "code",
      "source": [
        "numbers_divisible_by_2 = [] #або list()\n",
        "for nums in numbers:\n",
        "  numbers_divisible_by_2.append(nums % 2 == 0)\n",
        "print(numbers_divisible_by_2)\n"
      ],
      "metadata": {
        "id": "S2Pk_W12uyDo",
        "colab": {
          "base_uri": "https://localhost:8080/"
        },
        "outputId": "8430b70d-86c7-4489-92bb-3023351843f4"
      },
      "execution_count": 11,
      "outputs": [
        {
          "output_type": "stream",
          "name": "stdout",
          "text": [
            "[True, False, True, False, True, False, True, False, True, False]\n"
          ]
        }
      ]
    },
    {
      "cell_type": "markdown",
      "source": [
        "Очікуваний результат: `[True, False, True, False, True, False, True, False, True, False]`"
      ],
      "metadata": {
        "id": "cwvpWeVGnUGB"
      }
    },
    {
      "cell_type": "markdown",
      "source": [
        "4. Задано два списки в клітинці нижче - `a` і `b`. Створіть цикл, результатом якого буде список `result`, що містить елементи типу bool і який фактично каже,\n",
        "\"чи на цьому індексі елементи наших двох списків співпадають\". Приклад:\n",
        "```\n",
        "a = [1, 2, 3, 6]\n",
        "b = [1, 7, 3, 6]\n",
        "# ми виконали поелементне порівняння двох списків і отримали новий список result\n",
        "# result містить наступний результат -> [True, False, True, True]\n",
        "```\n",
        "В кінці виведіть вміст result на екран.\n",
        "\n",
        "<details>\n",
        "<summary>Підказка</summary>\n",
        "\n",
        "Аби порівняти елементи в циклі - треба створити цикл по індексам елементів. Зважаючи, що наші списки - одної довжини, цей підхід дозволить нам отримати чітко те, що треба.\n",
        "\n",
        "**Просунутий варіант.** Альтернативно можна створити цикл, який на кожній ітерації має доступ до двох елементів - по одному з кожного списка, для цього треба скористатись функцією `zip` - приклад [тут](https://realpython.com/python-zip-function/#traversing-lists-in-parallel)\n",
        "</details>\n"
      ],
      "metadata": {
        "id": "0rgeGpJ3utVN"
      }
    },
    {
      "cell_type": "code",
      "source": [
        "a = [64, 93, 60, 95, 66, 9, 15, 55, 77, 28, 74, 100, 13, 1, 85, 48, 66, 65, 59, 32]\n",
        "b = [64, 93, 60, 95, 66, 9, 15, 56, 77, 28, 74, 100, 13, 1, 85, 48, 67, 65, 59, 32]"
      ],
      "metadata": {
        "id": "IIYG41pWdJiG"
      },
      "execution_count": 19,
      "outputs": []
    },
    {
      "cell_type": "code",
      "source": [
        "result = []  #Просунутий варіант прям зайшов!\n",
        "for a_el, b_el in zip(a, b):\n",
        "  result.append(a_el == b_el)\n",
        "print(f\"result містить наступний результат -> {result}\")"
      ],
      "metadata": {
        "id": "XgZwTwr4u2lA",
        "colab": {
          "base_uri": "https://localhost:8080/"
        },
        "outputId": "a10dcaae-837a-4fca-ce0f-97f76e1a4159"
      },
      "execution_count": 23,
      "outputs": [
        {
          "output_type": "stream",
          "name": "stdout",
          "text": [
            "result містить наступний результат -> [True, True, True, True, True, True, True, False, True, True, True, True, True, True, True, True, False, True, True, True]\n"
          ]
        }
      ]
    },
    {
      "cell_type": "code",
      "source": [
        "result2 = []\n",
        "for i, value in enumerate(a):\n",
        "    result2.append(value == b[i])\n",
        "print(f\"result2 містить наступний результат -> {result2}\")\n"
      ],
      "metadata": {
        "colab": {
          "base_uri": "https://localhost:8080/"
        },
        "id": "beOqprfEmSeY",
        "outputId": "92553dc6-9975-4c22-e029-b44c4629e60b"
      },
      "execution_count": 29,
      "outputs": [
        {
          "output_type": "stream",
          "name": "stdout",
          "text": [
            "result2 містить наступний результат -> [True, True, True, True, True, True, True, False, True, True, True, True, True, True, True, True, False, True, True, True]\n"
          ]
        }
      ]
    },
    {
      "cell_type": "code",
      "source": [
        "result3 =[]\n",
        "for i in range(len(a)):\n",
        "    result3.append(a[i] == b[i])\n",
        "print(f\"result3 містить наступний результат -> {result3}\")"
      ],
      "metadata": {
        "colab": {
          "base_uri": "https://localhost:8080/"
        },
        "id": "CGCHT971pCg8",
        "outputId": "b14b43c0-3f52-4bad-e50b-809333c5d5b4"
      },
      "execution_count": 30,
      "outputs": [
        {
          "output_type": "stream",
          "name": "stdout",
          "text": [
            "result3 містить наступний результат -> [True, True, True, True, True, True, True, False, True, True, True, True, True, True, True, True, False, True, True, True]\n"
          ]
        }
      ]
    },
    {
      "cell_type": "markdown",
      "source": [
        "5. Нижче задано список `numbers`. Виконайте клітинку з його заданням.\n",
        "\n",
        "  Давайте знайдемо середнє арифметичне значення елементів списку `numbers` округлене до 2 цифр після коми та запишемо його у змінну `numbers_mean`. Для цього виконаємо два простих кроки.\n",
        "\n",
        "  1) Знайдіть суму всіх елементів списку `numbers` та запишіть її у змінну `numbers_sum`. Можна з використанням циклу, а можна і без.\n",
        "\n",
        "  2) Обчисліть `numbers_mean` шляхом ділення суми елементів у списку на їх кількість. Кількість елементів в списку - це його довжина.\n",
        "\n",
        "  Виведіть `numbers_mean`, округлений до 2 цифр після коми, на екран.\n",
        "\n",
        "  **Підказка**: округлити число можна з використанням вбудованої функції Python [round()](https://docs.python.org/3/library/functions.html#round)."
      ],
      "metadata": {
        "id": "0Z2cObcTutVO"
      }
    },
    {
      "cell_type": "code",
      "source": [
        "numbers = [42, 51, 29, 2, 13, 44, 80, 66, 16]"
      ],
      "metadata": {
        "id": "TwuOmLpeutVO"
      },
      "execution_count": 40,
      "outputs": []
    },
    {
      "cell_type": "code",
      "source": [
        "numbers_sum = sum(numbers)\n",
        "numbers_mean = round(numbers_sum / len(numbers), 2)\n",
        "print(numbers_mean)"
      ],
      "metadata": {
        "colab": {
          "base_uri": "https://localhost:8080/"
        },
        "id": "uEcgL0WCvc95",
        "outputId": "2ade51d0-bccc-4f88-e9e5-a356e0c72331"
      },
      "execution_count": 41,
      "outputs": [
        {
          "output_type": "stream",
          "name": "stdout",
          "text": [
            "38.11\n"
          ]
        }
      ]
    },
    {
      "cell_type": "code",
      "source": [
        "number_sum = 0  #через цикл for\n",
        "for nms in numbers:\n",
        "  number_sum += nms\n",
        "print(number_sum)"
      ],
      "metadata": {
        "id": "R-qDvKVcu6e1",
        "colab": {
          "base_uri": "https://localhost:8080/"
        },
        "outputId": "87b81404-70ca-4293-e1fa-dfc4d4b1ec55"
      },
      "execution_count": 42,
      "outputs": [
        {
          "output_type": "stream",
          "name": "stdout",
          "text": [
            "343\n"
          ]
        }
      ]
    },
    {
      "cell_type": "code",
      "source": [
        "numbers_mean = round(number_sum / len(numbers), 2)\n",
        "print(numbers_mean)"
      ],
      "metadata": {
        "colab": {
          "base_uri": "https://localhost:8080/"
        },
        "id": "AKGssvCMvMS4",
        "outputId": "f11abcd4-07cd-4af2-bc48-d2764a311117"
      },
      "execution_count": 43,
      "outputs": [
        {
          "output_type": "stream",
          "name": "stdout",
          "text": [
            "38.11\n"
          ]
        }
      ]
    },
    {
      "cell_type": "markdown",
      "source": [
        "Очікуваний результат: `38.11`"
      ],
      "metadata": {
        "id": "pSdssHuuutVQ"
      }
    },
    {
      "cell_type": "markdown",
      "source": [
        "6. Задано список `a` і елемент `element`. Перевірте програмно чи є в списку `a` елемент `element` з допомогою інструкцій `if ... else`. Виведіть на екран відповідь \"Так, є\", якщо цей елемент в списку присутній, або \"Ні, нема\", якщо його там немає.\n",
        "Важливо це зробити без використання імпортів будь-яких бібліотек.\n",
        "\n",
        "  Тут цикла немає :) Але це завдання - підготовче до наступного."
      ],
      "metadata": {
        "id": "JsevSvVtutVQ"
      }
    },
    {
      "cell_type": "code",
      "source": [
        "a = [64, 93, 60, 95, 66, 9, 15, 55, 77, 28, 74, 100, 13, 1, 85, 48, 66, 65, 59, 32]\n",
        "element = 33"
      ],
      "metadata": {
        "id": "TqkTdlN_utVQ"
      },
      "execution_count": 44,
      "outputs": []
    },
    {
      "cell_type": "code",
      "source": [
        "if element in a:\n",
        "  print(\"Так, є\")\n",
        "else:\n",
        "  print(\"Ні, нема\")"
      ],
      "metadata": {
        "id": "aL_76T8pu7fp",
        "colab": {
          "base_uri": "https://localhost:8080/"
        },
        "outputId": "86584ba4-2123-4a78-89a4-28550ba60806"
      },
      "execution_count": 47,
      "outputs": [
        {
          "output_type": "stream",
          "name": "stdout",
          "text": [
            "Ні, нема\n"
          ]
        }
      ]
    },
    {
      "cell_type": "markdown",
      "source": [
        "7. Тепер у нас не один елемент, а кілька. Вони наведені в змінній `elements`. За допомогою циклу і інструкцій `if ... else` для кожного елемента списку `elements` перевірте, чи він є в списку `a`.\n",
        "Виведіть на екран відповідь \"Так, є елемент <вставити значення елемента>\", якщо елемент в списку присутній, або \"Ні, нема елемента <вставити значення елемента>\", якщо його там немає."
      ],
      "metadata": {
        "id": "QKjmv4j0utVR"
      }
    },
    {
      "cell_type": "code",
      "source": [
        "elements = [44, 66, 77, 100]"
      ],
      "metadata": {
        "id": "TF3nT5TMutVR"
      },
      "execution_count": 48,
      "outputs": []
    },
    {
      "cell_type": "code",
      "source": [
        "for el in elements:\n",
        "  if el in a:\n",
        "    print(f\"Так, є елемент {el}\")\n",
        "  else:\n",
        "    print(f\"Ні, нема елемента {el}\")"
      ],
      "metadata": {
        "id": "pQD5InOQvG1d",
        "colab": {
          "base_uri": "https://localhost:8080/"
        },
        "outputId": "a5370d13-a691-4937-f43f-f18ed92d8fe4"
      },
      "execution_count": 50,
      "outputs": [
        {
          "output_type": "stream",
          "name": "stdout",
          "text": [
            "Ні, нема елемента 44\n",
            "Так, є елемент 66\n",
            "Так, є елемент 77\n",
            "Так, є елемент 100\n"
          ]
        }
      ]
    }
  ]
}
