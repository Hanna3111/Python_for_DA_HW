{
  "nbformat": 4,
  "nbformat_minor": 0,
  "metadata": {
    "colab": {
      "provenance": []
    },
    "kernelspec": {
      "name": "python3",
      "display_name": "Python 3"
    },
    "language_info": {
      "name": "python"
    }
  },
  "cells": [
    {
      "cell_type": "markdown",
      "source": [
        "# Домашнє завдання до теми \"Functions\""
      ],
      "metadata": {
        "id": "QtHabST6Ez_n"
      }
    },
    {
      "cell_type": "markdown",
      "source": [
        "1. Напишіть фукнцію `print_message`, яка виводить на екран \"Я програмую на Python💪\" і викличіть цю фукнцію 5 разів (найкраще це зробити в циклі).\n",
        "\n",
        "  **Увага**: фукнція має робити чітко лише зазначений функціонал. Наявність додаткового функціоналу і аргументів, які не потрібні для виконання безпосередньо завдання, буде вважатись помилкою."
      ],
      "metadata": {
        "id": "6pg_NzFq5_kO"
      }
    },
    {
      "cell_type": "code",
      "source": [
        "def print_message():\n",
        "  return \"Я програмую на Python💪\""
      ],
      "metadata": {
        "id": "RbXsfwI_D8ql"
      },
      "execution_count": 2,
      "outputs": []
    },
    {
      "cell_type": "code",
      "source": [
        "i = 1\n",
        "while i <= 5:\n",
        "  print(print_message())\n",
        "  i += 1"
      ],
      "metadata": {
        "colab": {
          "base_uri": "https://localhost:8080/"
        },
        "id": "3kSq6cqKbO-c",
        "outputId": "32e155ae-d9e3-45f0-c470-6275a7fa1970"
      },
      "execution_count": 3,
      "outputs": [
        {
          "output_type": "stream",
          "name": "stdout",
          "text": [
            "Я програмую на Python💪\n",
            "Я програмую на Python💪\n",
            "Я програмую на Python💪\n",
            "Я програмую на Python💪\n",
            "Я програмую на Python💪\n"
          ]
        }
      ]
    },
    {
      "cell_type": "code",
      "source": [
        "#або так\n",
        "for a in range(5):\n",
        "  print(print_message())"
      ],
      "metadata": {
        "colab": {
          "base_uri": "https://localhost:8080/"
        },
        "id": "uK9wQrUzcxLg",
        "outputId": "79079836-bfe8-4a41-c5b5-3e588e7e8a02"
      },
      "execution_count": 7,
      "outputs": [
        {
          "output_type": "stream",
          "name": "stdout",
          "text": [
            "Я програмую на Python💪\n",
            "Я програмую на Python💪\n",
            "Я програмую на Python💪\n",
            "Я програмую на Python💪\n",
            "Я програмую на Python💪\n"
          ]
        }
      ]
    },
    {
      "cell_type": "markdown",
      "source": [
        "2. Напишіть функцію `calculation` яка приймає на вхід 4 аргументи типу int - `a`, `b`, `c`, `d` і вертає результат обчислення такої формули: $ (a + b - c) * d $.\n",
        "\n",
        "  Викличте функцію на наступному наборі аргументів і виведіть результат на екран:\n",
        "  ```\n",
        "  a = 16\n",
        "  b = 4\n",
        "  c = 9\n",
        "  d = 3\n",
        "  ```"
      ],
      "metadata": {
        "id": "oyRpWRXWBL9N"
      }
    },
    {
      "cell_type": "code",
      "source": [
        "def calculation(a, b, c, d):\n",
        "  return (a + b - c) * d"
      ],
      "metadata": {
        "id": "Ggt2tx6kD-LS"
      },
      "execution_count": 32,
      "outputs": []
    },
    {
      "cell_type": "code",
      "source": [
        "a = 16\n",
        "b = 4\n",
        "c = 9\n",
        "d = 3\n",
        "result = calculation(a, b, c, d)  #чи просто calculation(a, b, c, d)\n",
        "print(result)"
      ],
      "metadata": {
        "colab": {
          "base_uri": "https://localhost:8080/"
        },
        "id": "cOwFf3oHenFY",
        "outputId": "974b7c3f-d14d-4f14-e2a6-d06d6bb21f94"
      },
      "execution_count": 33,
      "outputs": [
        {
          "output_type": "stream",
          "name": "stdout",
          "text": [
            "33\n"
          ]
        }
      ]
    },
    {
      "cell_type": "markdown",
      "source": [
        "3. Напишіть функцію, яка додає до аргумента 15 і вертає результат додавання. Викличте функцію, передаючи в якості аргументів кожну з наступних змінних по черзі, і виведіть кожного разу результат на екран.\n",
        "```\n",
        "x = 9\n",
        "y = 14\n",
        "z = -19\n",
        "```"
      ],
      "metadata": {
        "id": "5hf1CbllDU_t"
      }
    },
    {
      "cell_type": "code",
      "source": [
        "def sum(a):\n",
        "  return a + 15"
      ],
      "metadata": {
        "id": "GvEs_nUtD_Cd"
      },
      "execution_count": 13,
      "outputs": []
    },
    {
      "cell_type": "code",
      "source": [
        "x = 9\n",
        "y = 14\n",
        "z = -19\n",
        "print(sum(x))\n",
        "print(sum(y))\n",
        "print(sum(z))"
      ],
      "metadata": {
        "colab": {
          "base_uri": "https://localhost:8080/"
        },
        "id": "Yza5bpdEhowP",
        "outputId": "d9bc1b0a-8bb4-45f3-b531-b5b5b8bfa885"
      },
      "execution_count": 14,
      "outputs": [
        {
          "output_type": "stream",
          "name": "stdout",
          "text": [
            "24\n",
            "29\n",
            "-4\n"
          ]
        }
      ]
    },
    {
      "cell_type": "markdown",
      "source": [
        "4. Напишіть функцію `multipy_numbers`, яка приймає два числа як аргументи і повертає їх добуток.\n",
        "\n",
        "  Викличіть функцію `multipy_numbers` на парах чисел\n",
        "    - 10 і 2\n",
        "    - 7 і 8\n",
        "    - 1024 і 999.\n",
        "  \n",
        "  Виведіть результат кожного виклику.\n",
        "  При виконанні цього завдання з використанням циклу - отримаєте 2х балів за нього :)"
      ],
      "metadata": {
        "id": "bUuVBhie53uK"
      }
    },
    {
      "cell_type": "code",
      "source": [
        "def multipy_numbers(x, y):\n",
        "  return x * y"
      ],
      "metadata": {
        "id": "cDqrgZ4YEAKj"
      },
      "execution_count": 1,
      "outputs": []
    },
    {
      "cell_type": "code",
      "source": [
        "print(multipy_numbers(10, 2))\n",
        "print(multipy_numbers(7, 8))\n",
        "print(multipy_numbers(1024, 999))"
      ],
      "metadata": {
        "colab": {
          "base_uri": "https://localhost:8080/"
        },
        "id": "I6wvyk4CjVJA",
        "outputId": "6ef432ab-5228-4cac-a36a-98c39f6f644e"
      },
      "execution_count": 2,
      "outputs": [
        {
          "output_type": "stream",
          "name": "stdout",
          "text": [
            "20\n",
            "56\n",
            "1022976\n"
          ]
        }
      ]
    },
    {
      "cell_type": "code",
      "source": [
        "#з використанням циклу\n",
        "pairs_list = [(10, 2), (7, 8), (1024, 999)]"
      ],
      "metadata": {
        "id": "44VLpjygkCe0"
      },
      "execution_count": 3,
      "outputs": []
    },
    {
      "cell_type": "code",
      "source": [
        "for el1, el2 in pairs_list:\n",
        "  result1 = multipy_numbers(el1, el2)\n",
        "  print(result1)"
      ],
      "metadata": {
        "colab": {
          "base_uri": "https://localhost:8080/"
        },
        "id": "2tBQ0n1Es4n-",
        "outputId": "d54f80c0-09ae-4aae-9bad-444f87083e7b"
      },
      "execution_count": 5,
      "outputs": [
        {
          "output_type": "stream",
          "name": "stdout",
          "text": [
            "20\n",
            "56\n",
            "1022976\n"
          ]
        }
      ]
    },
    {
      "cell_type": "markdown",
      "source": [
        "5. **Ділення з перевіркою типів.**  \n",
        "\n",
        "  1. Напишіть функцію `int_division` яка приймає на вхід два аргументи типу `int` - `a` і `b`, і виконує ділення першого аргумента на другий: `a/b`. При цьому функція перед діленням перевіряє, чи другий аргумент не дорівнює 0. Якщо другий аргумент не 0, фукнція вертає результат ділення, інакше - замість виконання ділення, вертає повідомлення на екран \"Не можу виконати ділення на 0\".\n",
        "\n",
        "    Якщо типи, надані у функцію, не `int` - функція виводить повідомлення \"Не працюю з такими типами даних.\".\n",
        "\n",
        "  2. Запустіть функцію на наступних парах чисел:\n",
        "  - 12 і 6\n",
        "  - 20 і 0\n",
        "  - 112 і 10\n",
        "  - 99 і 0\n",
        "  - 11 i 1.1\n",
        "\n",
        "    і виведіть на екран повідомлення \"Результат роботи функції: \" - і далі те, що повернула функція.\n",
        "\n",
        "  3. Дайте відповідь на питання: \"Чому в деяких випадках функція повернула None?\""
      ],
      "metadata": {
        "id": "I03t46k27dDZ"
      }
    },
    {
      "cell_type": "code",
      "source": [
        "def int_division(n: int, m: int):\n",
        "  assert isinstance(n, int) and isinstance(m, int), \"Не працюю з такими типами даних.\"  # замість isinstance(n, int) можна type(n) == 0, також із m параметром\n",
        "  if m == 0:\n",
        "    return \"Не можу виконати ділення на 0.\"\n",
        "  else:\n",
        "    return n / m"
      ],
      "metadata": {
        "id": "1-EQhxrAEEAb"
      },
      "execution_count": 34,
      "outputs": []
    },
    {
      "cell_type": "code",
      "source": [
        "pairs_list2 = [(12, 6), (20, 0), (112, 10), (99, 0), (11, 1.1)]"
      ],
      "metadata": {
        "id": "jxHX8HoqxHMx"
      },
      "execution_count": 35,
      "outputs": []
    },
    {
      "cell_type": "code",
      "source": [
        "for elm1, elm2 in pairs_list2:\n",
        "  new_result = int_division(elm1, elm2)\n",
        "  print(\"Результат роботи функції:\", new_result)"
      ],
      "metadata": {
        "colab": {
          "base_uri": "https://localhost:8080/",
          "height": 367
        },
        "id": "hANm83oh3-Lg",
        "outputId": "09b0e9e7-d84e-4396-f5ff-215f7d4579ba"
      },
      "execution_count": 36,
      "outputs": [
        {
          "output_type": "stream",
          "name": "stdout",
          "text": [
            "Результат роботи функції: 2.0\n",
            "Результат роботи функції: Не можу виконати ділення на 0.\n",
            "Результат роботи функції: 11.2\n",
            "Результат роботи функції: Не можу виконати ділення на 0.\n"
          ]
        },
        {
          "output_type": "error",
          "ename": "AssertionError",
          "evalue": "Не працюю з такими типами даних.",
          "traceback": [
            "\u001b[0;31m---------------------------------------------------------------------------\u001b[0m",
            "\u001b[0;31mAssertionError\u001b[0m                            Traceback (most recent call last)",
            "\u001b[0;32m<ipython-input-36-7f55f5ee0519>\u001b[0m in \u001b[0;36m<cell line: 1>\u001b[0;34m()\u001b[0m\n\u001b[1;32m      1\u001b[0m \u001b[0;32mfor\u001b[0m \u001b[0melm1\u001b[0m\u001b[0;34m,\u001b[0m \u001b[0melm2\u001b[0m \u001b[0;32min\u001b[0m \u001b[0mpairs_list2\u001b[0m\u001b[0;34m:\u001b[0m\u001b[0;34m\u001b[0m\u001b[0;34m\u001b[0m\u001b[0m\n\u001b[0;32m----> 2\u001b[0;31m   \u001b[0mnew_result\u001b[0m \u001b[0;34m=\u001b[0m \u001b[0mint_division\u001b[0m\u001b[0;34m(\u001b[0m\u001b[0melm1\u001b[0m\u001b[0;34m,\u001b[0m \u001b[0melm2\u001b[0m\u001b[0;34m)\u001b[0m\u001b[0;34m\u001b[0m\u001b[0;34m\u001b[0m\u001b[0m\n\u001b[0m\u001b[1;32m      3\u001b[0m   \u001b[0mprint\u001b[0m\u001b[0;34m(\u001b[0m\u001b[0;34m\"Результат роботи функції:\"\u001b[0m\u001b[0;34m,\u001b[0m \u001b[0mnew_result\u001b[0m\u001b[0;34m)\u001b[0m\u001b[0;34m\u001b[0m\u001b[0;34m\u001b[0m\u001b[0m\n",
            "\u001b[0;32m<ipython-input-34-2879c4a383b9>\u001b[0m in \u001b[0;36mint_division\u001b[0;34m(n, m)\u001b[0m\n\u001b[1;32m      1\u001b[0m \u001b[0;32mdef\u001b[0m \u001b[0mint_division\u001b[0m\u001b[0;34m(\u001b[0m\u001b[0mn\u001b[0m\u001b[0;34m:\u001b[0m \u001b[0mint\u001b[0m\u001b[0;34m,\u001b[0m \u001b[0mm\u001b[0m\u001b[0;34m:\u001b[0m \u001b[0mint\u001b[0m\u001b[0;34m)\u001b[0m\u001b[0;34m:\u001b[0m\u001b[0;34m\u001b[0m\u001b[0;34m\u001b[0m\u001b[0m\n\u001b[0;32m----> 2\u001b[0;31m   \u001b[0;32massert\u001b[0m \u001b[0misinstance\u001b[0m\u001b[0;34m(\u001b[0m\u001b[0mn\u001b[0m\u001b[0;34m,\u001b[0m \u001b[0mint\u001b[0m\u001b[0;34m)\u001b[0m \u001b[0;32mand\u001b[0m \u001b[0misinstance\u001b[0m\u001b[0;34m(\u001b[0m\u001b[0mm\u001b[0m\u001b[0;34m,\u001b[0m \u001b[0mint\u001b[0m\u001b[0;34m)\u001b[0m\u001b[0;34m,\u001b[0m \u001b[0;34m\"Не працюю з такими типами даних.\"\u001b[0m\u001b[0;34m\u001b[0m\u001b[0;34m\u001b[0m\u001b[0m\n\u001b[0m\u001b[1;32m      3\u001b[0m   \u001b[0;32mif\u001b[0m \u001b[0mm\u001b[0m \u001b[0;34m==\u001b[0m \u001b[0;36m0\u001b[0m\u001b[0;34m:\u001b[0m\u001b[0;34m\u001b[0m\u001b[0;34m\u001b[0m\u001b[0m\n\u001b[1;32m      4\u001b[0m     \u001b[0;32mreturn\u001b[0m \u001b[0;34m\"Не можу виконати ділення на 0.\"\u001b[0m\u001b[0;34m\u001b[0m\u001b[0;34m\u001b[0m\u001b[0m\n\u001b[1;32m      5\u001b[0m   \u001b[0;32melse\u001b[0m\u001b[0;34m:\u001b[0m\u001b[0;34m\u001b[0m\u001b[0;34m\u001b[0m\u001b[0m\n",
            "\u001b[0;31mAssertionError\u001b[0m: Не працюю з такими типами даних."
          ]
        }
      ]
    },
    {
      "cell_type": "markdown",
      "source": [
        "**Дайте відповідь на питання: \"Чому в деяких випадках функція повернула None?**\n",
        "\n",
        "**Відповідь:** Для аргументів (11, 1.1), де 1.1 це тип float, а не int, перевірка assert isinstance(n, int) and isinstance(m, int) не проходить, і функція завершується без повернення значення.\n",
        "Я не зовсім розумію чи правильно у мене вивівся текст \"Не працюю з такими типами даних.\" але у лекції було, якщо повертається AssertionError (а тут я ії очикувала), тогда все правильно спрацювало. Просто сумніви по такому формату виводу :) тобто тут було порушено умову assert, якщо простими словами."
      ],
      "metadata": {
        "id": "y_tALxPP8IEN"
      }
    }
  ]
}