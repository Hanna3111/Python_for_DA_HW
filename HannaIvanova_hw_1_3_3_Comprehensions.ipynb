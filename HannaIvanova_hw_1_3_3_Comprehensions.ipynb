{
  "nbformat": 4,
  "nbformat_minor": 0,
  "metadata": {
    "colab": {
      "provenance": []
    },
    "kernelspec": {
      "name": "python3",
      "display_name": "Python 3"
    },
    "language_info": {
      "name": "python"
    }
  },
  "cells": [
    {
      "cell_type": "markdown",
      "source": [
        "#Домашнє завдання до теми \"Comprehensions в Python\""
      ],
      "metadata": {
        "id": "jGTe7raw9lB_"
      }
    },
    {
      "cell_type": "markdown",
      "source": [
        "Для наступних завдань у нас є наступний список:"
      ],
      "metadata": {
        "id": "grIbI4ZZ7miJ"
      }
    },
    {
      "cell_type": "code",
      "source": [
        "numbers = [42, 51, 29, 2, 13, 44, 80, 66, 16]"
      ],
      "metadata": {
        "id": "nFOAtgsP7nnc"
      },
      "execution_count": 9,
      "outputs": []
    },
    {
      "cell_type": "markdown",
      "source": [
        "1. Використовуючи цикл `for` cтворіть новий список `numbers_squared`, де кожен елемент списку `numbers` є домноженим на 2.\n",
        "\n",
        "Нагадаю, що фактично коли ми з допомогою циклу отримуємо новий список, то ми спочатку створюємо пустий список, а потім додаємо в нього новий елемент на кожній ітерації.\n",
        "\n",
        "Новий елемент буде в даному випадку результатом домножання чергового елемента вихідного списку `numbers` на 2."
      ],
      "metadata": {
        "id": "_sRe19Ym6zDc"
      }
    },
    {
      "cell_type": "code",
      "execution_count": 10,
      "metadata": {
        "id": "EhGdKWo06nGS",
        "colab": {
          "base_uri": "https://localhost:8080/"
        },
        "outputId": "852a49b7-c029-4272-ead5-3fb84fe240b2"
      },
      "outputs": [
        {
          "output_type": "execute_result",
          "data": {
            "text/plain": [
              "[84, 102, 58, 4, 26, 88, 160, 132, 32]"
            ]
          },
          "metadata": {},
          "execution_count": 10
        }
      ],
      "source": [
        "numbers_squared = []\n",
        "for nms in numbers:\n",
        "  numbers_squared.append(nms * 2)\n",
        "numbers_squared"
      ]
    },
    {
      "cell_type": "markdown",
      "source": [
        "Очікуваний результат: `[84, 102, 58, 4, 26, 88, 160, 132, 32]`"
      ],
      "metadata": {
        "id": "XKpWtN8N64np"
      }
    },
    {
      "cell_type": "markdown",
      "source": [
        "2. Використовуючи `list comprehension` cтворіть новий список `numbers_squared_lh`, де кожен елемент списку `numbers` є домноженим 2.\n",
        "Так, операція, яку ми викнуємо над кожним елементом вихідного списку, та сама, що і в попередньому завданні, але інший спосіб отримання результату."
      ],
      "metadata": {
        "id": "aHmdOLkZ7eQ2"
      }
    },
    {
      "cell_type": "code",
      "source": [
        "numbers_squared_lh = [nms * 2 for nms in numbers]"
      ],
      "metadata": {
        "id": "fsKlUM9x7T7n"
      },
      "execution_count": 7,
      "outputs": []
    },
    {
      "cell_type": "code",
      "source": [
        "numbers_squared_lh"
      ],
      "metadata": {
        "colab": {
          "base_uri": "https://localhost:8080/"
        },
        "id": "Rti3cazbF4w3",
        "outputId": "f897b637-4df3-43e0-a20c-b2e36fc2f2ce"
      },
      "execution_count": 8,
      "outputs": [
        {
          "output_type": "execute_result",
          "data": {
            "text/plain": [
              "[84, 102, 58, 4, 26, 88, 160, 132, 32]"
            ]
          },
          "metadata": {},
          "execution_count": 8
        }
      ]
    },
    {
      "cell_type": "markdown",
      "source": [
        "3. У нас вже є знайдене середнє значення за списком - воно визначене в змінній `numbers_mean`.\n",
        "\n",
        "  Використовуючи цикл, створіть новий список `numbers_gt_mean`, який порівнює кожен елемент з цим середнім значенням за списком за наступним правилом: \"якщо цей елемент спиcку `numbers` є більшим за `numbers_mean`, то запишемо 1, інакше 0\". Виведіть новий список на екран."
      ],
      "metadata": {
        "id": "tKpPGIQN7fc5"
      }
    },
    {
      "cell_type": "code",
      "source": [
        "numbers_mean = 38.11"
      ],
      "metadata": {
        "id": "FKGz-HqgwAdX"
      },
      "execution_count": 13,
      "outputs": []
    },
    {
      "cell_type": "code",
      "source": [
        "numbers_gt_mean = []\n",
        "for nms1 in numbers:\n",
        "  if nms1 > numbers_mean:\n",
        "    numbers_gt_mean.append(1)\n",
        "  else:\n",
        "    numbers_gt_mean.append(0)\n",
        "numbers_gt_mean"
      ],
      "metadata": {
        "id": "obelsT8N72Lp",
        "colab": {
          "base_uri": "https://localhost:8080/"
        },
        "outputId": "abefe945-0332-4df0-c559-976ebc64da63"
      },
      "execution_count": 17,
      "outputs": [
        {
          "output_type": "execute_result",
          "data": {
            "text/plain": [
              "[1, 1, 0, 0, 0, 1, 1, 1, 0]"
            ]
          },
          "metadata": {},
          "execution_count": 17
        }
      ]
    },
    {
      "cell_type": "markdown",
      "source": [
        "Очікуваний результат: `[1, 1, 0, 0, 0, 1, 1, 1, 0]`"
      ],
      "metadata": {
        "id": "kRUDVSRs720X"
      }
    },
    {
      "cell_type": "markdown",
      "source": [
        "4. Отримайте список за тим самим правилом, що в завданні 3, тільки тепер з list comprehension. Результат запишіть у змінну `numbers_gt_mean_lc`"
      ],
      "metadata": {
        "id": "dudK-NlE76z8"
      }
    },
    {
      "cell_type": "code",
      "source": [
        "numbers_gt_mean_lc = [1 if nms1 > numbers_mean else 0 for nms1 in numbers ]\n",
        "numbers_gt_mean_lc"
      ],
      "metadata": {
        "id": "kpnfXkUu76Ao",
        "colab": {
          "base_uri": "https://localhost:8080/"
        },
        "outputId": "d33f2bf4-0c56-408a-b6b6-69faf281d2ae"
      },
      "execution_count": 21,
      "outputs": [
        {
          "output_type": "execute_result",
          "data": {
            "text/plain": [
              "[1, 1, 0, 0, 0, 1, 1, 1, 0]"
            ]
          },
          "metadata": {},
          "execution_count": 21
        }
      ]
    },
    {
      "cell_type": "markdown",
      "source": [
        "5. Заданий список `long`. З допомогою циклу створіть словник `n_repeats`, який містить інформацію \"скільки разів повторюється кожен унікальний елемент списку `long`\".\n",
        "Наприклад:\n",
        "```\n",
        "long = [1, 1, 2, 2, 3]\n",
        "# тоді `n_repeats` містить {1: 2, 2: 2, 3: 1}\n",
        "```\n",
        "\n",
        "Аби для кожного унікального елементу знайти, скільки разів він повторюється, виористайте метод списку `list.count(<елемент>)`.\n",
        "Виведіть `n_repeats` на екран.\n",
        "\n",
        "**Підказки**:\n",
        "1. Для початку може бути зручно отримати набір унікальних елементів списку.\n",
        "2. Порядок ключів в словнику не має значення! Тобто ключі в словнику не обовʼязково мають бути в тому ж порядку, як наведено в прикладі результату. Але кількості зустрічань для кожного елемента мають співпадати з наведеними."
      ],
      "metadata": {
        "id": "muQmE3Mz8KDx"
      }
    },
    {
      "cell_type": "code",
      "source": [
        "long = [75, 39, 95, 1, 91, 43, 97, 24, 86, 75, 92, 91, 15, 15, 75, 95, 54, 29, 55, 98]"
      ],
      "metadata": {
        "id": "T_MDOYpa8Khu"
      },
      "execution_count": 22,
      "outputs": []
    },
    {
      "cell_type": "code",
      "source": [
        "my_list = list(set(long))\n",
        "my_list"
      ],
      "metadata": {
        "id": "FCUf8p3y8RG0",
        "colab": {
          "base_uri": "https://localhost:8080/"
        },
        "outputId": "1ead07af-36dd-465d-a439-018a8527cc13"
      },
      "execution_count": 34,
      "outputs": [
        {
          "output_type": "execute_result",
          "data": {
            "text/plain": [
              "[1, 97, 98, 39, 75, 43, 15, 55, 86, 54, 24, 91, 92, 29, 95]"
            ]
          },
          "metadata": {},
          "execution_count": 34
        }
      ]
    },
    {
      "cell_type": "code",
      "source": [
        "n_repeats = {}\n",
        "for ml in my_list:\n",
        "  n_repeats[ml] = long.count(ml)\n",
        "print(f'n_repeats містить {n_repeats}')\n"
      ],
      "metadata": {
        "colab": {
          "base_uri": "https://localhost:8080/"
        },
        "id": "XVXkMdMnT3Zs",
        "outputId": "c76f7ce7-3c15-4094-c82a-6038016cfb3b"
      },
      "execution_count": 36,
      "outputs": [
        {
          "output_type": "stream",
          "name": "stdout",
          "text": [
            "n_repeats містить {1: 1, 97: 1, 98: 1, 39: 1, 75: 3, 43: 1, 15: 2, 55: 1, 86: 1, 54: 1, 24: 1, 91: 2, 92: 1, 29: 1, 95: 2}\n"
          ]
        }
      ]
    },
    {
      "cell_type": "markdown",
      "source": [
        "Очікуваний результат:\n",
        "```\n",
        "{1: 1, 97: 1, 98: 1, 39: 1, 75: 3, 43: 1, 15: 2, 55: 1, 86: 1, 54: 1, 24: 1, 91: 2, 92: 1, 29: 1, 95: 2}\n",
        "\n",
        "```"
      ],
      "metadata": {
        "id": "WQbGyWde8RkT"
      }
    },
    {
      "cell_type": "markdown",
      "source": [
        "6. Виконайте ту саму операцію, що і в попередньому заваднні, але використовуючи `dict comprehension`. Результат запишіть у змінну `n_repeats_dh` та результат виведіть на екран."
      ],
      "metadata": {
        "id": "W-nelSSP8VeG"
      }
    },
    {
      "cell_type": "code",
      "source": [
        "n_repeats_dh = {ml: long.count(ml) for ml in my_list}\n",
        "print(f'n_repeats_dh містить {n_repeats_dh}')"
      ],
      "metadata": {
        "id": "gDz_kE0N8YM4",
        "colab": {
          "base_uri": "https://localhost:8080/"
        },
        "outputId": "57d221d1-680f-486f-e2fa-f37ce8d6fc78"
      },
      "execution_count": 37,
      "outputs": [
        {
          "output_type": "stream",
          "name": "stdout",
          "text": [
            "n_repeats_dh містить {1: 1, 97: 1, 98: 1, 39: 1, 75: 3, 43: 1, 15: 2, 55: 1, 86: 1, 54: 1, 24: 1, 91: 2, 92: 1, 29: 1, 95: 2}\n"
          ]
        }
      ]
    },
    {
      "cell_type": "markdown",
      "source": [
        "7. Знайдіть три найменші **унікальні** елементи в списку `long` та виведіть їх на екран."
      ],
      "metadata": {
        "id": "Th5wKghw8aYj"
      }
    },
    {
      "cell_type": "code",
      "source": [
        "my_list.sort()\n",
        "my_list"
      ],
      "metadata": {
        "colab": {
          "base_uri": "https://localhost:8080/"
        },
        "id": "m0L3QHB7qqIF",
        "outputId": "0132225e-8b71-4731-87ab-b758f91b5a0b"
      },
      "execution_count": 45,
      "outputs": [
        {
          "output_type": "execute_result",
          "data": {
            "text/plain": [
              "[1, 15, 24, 29, 39, 43, 54, 55, 75, 86, 91, 92, 95, 97, 98]"
            ]
          },
          "metadata": {},
          "execution_count": 45
        }
      ]
    },
    {
      "cell_type": "code",
      "source": [
        "small_3_numbers = my_list[:3]\n",
        "small_3_numbers"
      ],
      "metadata": {
        "colab": {
          "base_uri": "https://localhost:8080/"
        },
        "id": "upaHemVMpx3R",
        "outputId": "53db285b-75c1-4edf-c351-3ca7ea786134"
      },
      "execution_count": 46,
      "outputs": [
        {
          "output_type": "execute_result",
          "data": {
            "text/plain": [
              "[1, 15, 24]"
            ]
          },
          "metadata": {},
          "execution_count": 46
        }
      ]
    },
    {
      "cell_type": "markdown",
      "source": [
        "Очікувана відповідь: [1, 15, 24]"
      ],
      "metadata": {
        "id": "XOW0GDBK8cn7"
      }
    }
  ]
}